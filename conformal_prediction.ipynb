{
 "cells": [
  {
   "cell_type": "code",
   "execution_count": 1,
   "metadata": {},
   "outputs": [],
   "source": [
    "import numpy as np\n",
    "import matplotlib.pyplot as plt\n",
    "from numpy import linalg\n",
    "from scipy.spatial.distance import pdist\n",
    "from scipy.spatial.distance import squareform\n",
    "\n",
    "from sklearn.neighbors import NearestNeighbors as sknn\n",
    "\n",
    "import pickle\n",
    "import re"
   ]
  },
  {
   "cell_type": "code",
   "execution_count": 2,
   "metadata": {},
   "outputs": [],
   "source": [
    "# push file to git repo\n",
    "# split clean sample and put into test set as negative classes (instead of current methodology)\n",
    "# cross validation on the clean sample is another idea?"
   ]
  },
  {
   "cell_type": "code",
   "execution_count": 3,
   "metadata": {},
   "outputs": [],
   "source": [
    "with open(\"/users/albertwen/downloads/mae_data/val_losses.pkl\", \"rb\") as f:\n",
    "  raw_stdout = pickle.load(f)\n",
    "split = raw_stdout.split('\\n')\n",
    "pattern = re.compile(\"Epoch: .*\")\n",
    "base_loss = [i for i in split if pattern.match(i)][:-1]\n",
    "base_loss = [float(re.search('loss: (0\\.\\d*) .*', i).group(1)) for i in base_loss]"
   ]
  },
  {
   "cell_type": "code",
   "execution_count": 4,
   "metadata": {},
   "outputs": [],
   "source": [
    "with open(\"/users/albertwen/downloads/mae_data/fgsm4_losses.pkl\", \"rb\") as f:\n",
    "  raw_stdout = pickle.load(f)\n",
    "split = raw_stdout.split('\\n')\n",
    "pattern = re.compile(\"Epoch: .*\")\n",
    "fgsm4_loss = [i for i in split if pattern.match(i)][:-1]\n",
    "fgsm4_loss = [float(re.search('loss: (0\\.\\d*) .*', i).group(1)) for i in fgsm4_loss]"
   ]
  },
  {
   "cell_type": "code",
   "execution_count": 5,
   "metadata": {},
   "outputs": [],
   "source": [
    "with open(\"/users/albertwen/downloads/mae_data/fgsm8_losses.pkl\", \"rb\") as f:\n",
    "  raw_stdout = pickle.load(f)\n",
    "split = raw_stdout.split('\\n')\n",
    "pattern = re.compile(\"Epoch: .*\")\n",
    "fgsm8_loss = [i for i in split if pattern.match(i)][:-1]\n",
    "fgsm8_loss = [float(re.search('loss: (0\\.\\d*) .*', i).group(1)) for i in fgsm8_loss]"
   ]
  },
  {
   "attachments": {},
   "cell_type": "markdown",
   "metadata": {},
   "source": [
    "# Conformal Predictor Class"
   ]
  },
  {
   "cell_type": "code",
   "execution_count": 6,
   "metadata": {},
   "outputs": [],
   "source": [
    "class ConformalAnomalyDetector():\n",
    "    \"\"\"\n",
    "    Conformal Anomaly Detector Class\n",
    "    @params\n",
    "        ICM: class\n",
    "            An object whose call operation should produce an array of conformal scores\n",
    "        z: tuple (len==2)\n",
    "            Each element is an (x,y) pair of the training set for CAD\n",
    "        significance: float\n",
    "            The significance level (must be between 0 and 1 exclusive)\n",
    "    \"\"\"\n",
    "    def __init__ (self, train, ICM, significance=0.05):\n",
    "        self._ICM = ICM\n",
    "        self.train = train\n",
    "\n",
    "        assert significance > 0 and significance < 1, \\\n",
    "            print('Significance must be in range (0,1).')\n",
    "        self._significance = significance\n",
    "\n",
    "        self.baseline = self._ICM(self.train, self.train)\n",
    "\n",
    "        \n",
    "    \"\"\"\n",
    "    Return true or false if the test example are an anomaly\n",
    "    @params\n",
    "        test: np.ndarray\n",
    "            A 1xn test example where m is the number of test examples and n is the number of dimensions\n",
    "    @return: bool\n",
    "        True if test input is anomaly and false otherwise \n",
    "    \"\"\"\n",
    "    def testIfAnomaly(self, test_val):\n",
    "        # conformal_set = np.concatenate((self.z,np.asarray(test)))\n",
    "        # conformal_set = np.asarray(self.z + [self.test_test]).reshape((len(self.z) + 1, 1))\n",
    "        conformal_scores = self._ICM(self.train, test_val)\n",
    "\n",
    "        p = np.sum(self.baseline >= conformal_scores[0]) / len(self.baseline)\n",
    "        # p = np.sum(conformal_scores >= conformal_scores[-1]) / (len(self.train)+1)\n",
    "        \n",
    "        return p < self._significance\n",
    "\n",
    "    \"\"\"\n",
    "    Return array of true or false if the test examples are an anomaly\n",
    "    @params\n",
    "        test: np.ndarray\n",
    "            A mxn test example where m is the number of test examples and n is the number of dimensions\n",
    "    @return: np.ndarray\n",
    "        An mx1 array of true if test input is anomaly and false otherwise \n",
    "    \"\"\" \n",
    "    def __call__(self,test_set):\n",
    "        isAnomaly = [self.testIfAnomaly(test_set[i]) for i in range(len(test_set))]\n",
    "        return isAnomaly\n",
    "\n",
    "    \"\"\"\n",
    "    Change significance level (hyper-parameter)\n",
    "    @params\n",
    "        significance: float\n",
    "            The significance level (must be between 0 and 1 exclusive)\n",
    "    \"\"\" \n",
    "    def set_significance(self,significance):\n",
    "        assert significance > 0 and significance < 1, \\\n",
    "            print('Significance must be in range (0,1).')\n",
    "        self._significance = significance"
   ]
  },
  {
   "attachments": {},
   "cell_type": "markdown",
   "metadata": {},
   "source": [
    "# KNN class"
   ]
  },
  {
   "cell_type": "code",
   "execution_count": 7,
   "metadata": {},
   "outputs": [],
   "source": [
    "class KNearestNeighbors():\n",
    "\n",
    "    # change this to return distance[0] from sklearn nearest neighbors implementation\n",
    "    # described below\n",
    "    \"\"\"\n",
    "        A simple real-valued function to compute the conformal scores\n",
    "        Each conformal score is the average k-nearest neighbors according to a specified metric\n",
    "        @params\n",
    "            k: int\n",
    "                Determines k nearest neighbors\n",
    "            metric: str\n",
    "                distance metric (see scipy's pdist function for valid metrics)\n",
    "    \"\"\"\n",
    "    def __init__(self, k, metric='euclidean'):\n",
    "        self._k = k\n",
    "        self._metric = metric\n",
    "        self.neighbors = sknn(n_neighbors=k)\n",
    "\n",
    "        # self.all_distances = pdist(np.asarray(train_set + test_set).reshape((len(train_set) + len(test_set), 1)), self._metric)\n",
    "        # self.all_distances = squareform(self.all_distances)\n",
    "\n",
    "        # self.train_distances = self.all_distances[:len(self.train)].T[:len(self.train)].T\n",
    "\n",
    "    \"\"\"\n",
    "        Returns a pairwise distance matrix\n",
    "        @params\n",
    "            x: np.ndarray\n",
    "                An m x n array with m samples and n dimensions\n",
    "    \"\"\"\n",
    "    def get_pairwise_distance_matrix(self, test_val):\n",
    "        distances = self.neighbors.kneighbors(test_val, self._k, return_distance=True)\n",
    "        return np.mean(distances[0], axis=1)\n",
    "\n",
    "    \"\"\"\n",
    "        Returns the mean pairwise distance between the k'th nearest neighbors\n",
    "        @params\n",
    "            x: np.ndarray\n",
    "                An m x n array with m samples and n dimensions\n",
    "    \"\"\"\n",
    "    def __call__(self, train, test_val):\n",
    "        self.neighbors.fit(np.asarray(train).reshape((len(train), 1)))\n",
    "\n",
    "        if np.array(test_val).shape == ():\n",
    "            distance_matrix = self.get_pairwise_distance_matrix(np.array([[test_val]]))\n",
    "        else: \n",
    "            distance_matrix = self.get_pairwise_distance_matrix(np.array(test_val).reshape((len(test_val), 1)))\n",
    "        return distance_matrix"
   ]
  },
  {
   "attachments": {},
   "cell_type": "markdown",
   "metadata": {},
   "source": [
    "# Main"
   ]
  },
  {
   "cell_type": "code",
   "execution_count": 9,
   "metadata": {},
   "outputs": [
    {
     "data": {
      "text/plain": [
       "100000"
      ]
     },
     "execution_count": 9,
     "metadata": {},
     "output_type": "execute_result"
    }
   ],
   "source": [
    "len(base_loss)"
   ]
  },
  {
   "cell_type": "code",
   "execution_count": 31,
   "metadata": {},
   "outputs": [],
   "source": [
    "train_data = base_loss[:50000]\n",
    "test_data = fgsm8_loss\n",
    "# test_data = base_loss[:100]\n",
    "\n",
    "np.random.seed(123432) # set seed for reproducibility\n",
    "k_nearest_neighbor = KNearestNeighbors(k=1000) # Initialize the ICM that uses k-nearest neighbors(k=10)\n",
    "conformal_predictor = ConformalAnomalyDetector(train_data, ICM=k_nearest_neighbor) # initialize CAD\n",
    "\n",
    "significances = [0.025,0.05,0.25,0.5] # see how different significance levels affect results\n",
    "# significances = [0.025]\n",
    "\n",
    "anomalies = []\n",
    "for i in range(len(significances)):\n",
    "    significance = significances[i]\n",
    "    conformal_predictor.set_significance(significance) # change significance\n",
    "    isAnomaly = conformal_predictor(test_data) # test if anomamlies according to current CAD\n",
    "    anomalies.append(isAnomaly)"
   ]
  },
  {
   "cell_type": "code",
   "execution_count": 32,
   "metadata": {},
   "outputs": [],
   "source": [
    "with open(\"/users/albertwen/downloads/mae_data/fgsm4_anomalies.pkl\", \"wb\") as f:\n",
    "    pickle.dump(anomalies, f)"
   ]
  },
  {
   "cell_type": "code",
   "execution_count": 30,
   "metadata": {},
   "outputs": [],
   "source": [
    "train_data = base_loss[:50000]\n",
    "# test_data = fgsm8_loss\n",
    "test_data = base_loss[50000:]\n",
    "\n",
    "# improve performance using vstack and cupy instead of numpy\n",
    "\n",
    "np.random.seed(123432) # set seed for reproducibility\n",
    "k_nearest_neighbor = KNearestNeighbors(k=1000) # Initialize the ICM that uses k-nearest neighbors(k=10)\n",
    "conformal_predictor = ConformalAnomalyDetector(train_data, ICM=k_nearest_neighbor) # initialize CAD\n",
    "\n",
    "significances = [0.025,0.05,0.25,0.5] # see how different significance levels affect results\n",
    "# significances = [0.025]\n",
    "\n",
    "base_anomalies = []\n",
    "for i in range(len(significances)):\n",
    "    significance = significances[i]\n",
    "    conformal_predictor.set_significance(significance) # change significance\n",
    "    isAnomaly = conformal_predictor(test_data) # test if anomamlies according to current CAD\n",
    "    base_anomalies.append(isAnomaly)"
   ]
  },
  {
   "cell_type": "code",
   "execution_count": 33,
   "metadata": {},
   "outputs": [],
   "source": [
    "with open(\"/users/albertwen/downloads/mae_data/baseline_anomalies.pkl\", \"wb\") as f:\n",
    "    pickle.dump(base_anomalies, f)"
   ]
  },
  {
   "cell_type": "code",
   "execution_count": 34,
   "metadata": {},
   "outputs": [
    {
     "name": "stdout",
     "output_type": "stream",
     "text": [
      "tpr 0.48446\n",
      "tpr 0.62556\n",
      "tpr 0.9149\n",
      "tpr 0.97602\n"
     ]
    }
   ],
   "source": [
    "for result in anomalies:\n",
    "    print(\"tpr\", sum(result) / len(result))"
   ]
  },
  {
   "cell_type": "code",
   "execution_count": 35,
   "metadata": {},
   "outputs": [
    {
     "name": "stdout",
     "output_type": "stream",
     "text": [
      "fpr 0.02796\n",
      "fpr 0.05556\n",
      "fpr 0.26408\n",
      "fpr 0.51588\n"
     ]
    }
   ],
   "source": [
    "for result in base_anomalies:\n",
    "    print(\"fpr\", sum(result) / len(result))"
   ]
  },
  {
   "cell_type": "code",
   "execution_count": 36,
   "metadata": {},
   "outputs": [
    {
     "name": "stdout",
     "output_type": "stream",
     "text": [
      "accuracy 0.72825\n",
      "accuracy 0.785\n",
      "accuracy 0.82541\n",
      "accuracy 0.73007\n"
     ]
    }
   ],
   "source": [
    "for i in range(len(anomalies)):\n",
    "    print(\"accuracy\", (sum(anomalies[i]) + (len(base_anomalies[i]) - sum(base_anomalies[i]))) / (len(base_anomalies[i]) + len(anomalies[i])))"
   ]
  },
  {
   "cell_type": "code",
   "execution_count": 37,
   "metadata": {},
   "outputs": [
    {
     "data": {
      "text/plain": [
       "24206"
      ]
     },
     "execution_count": 37,
     "metadata": {},
     "output_type": "execute_result"
    }
   ],
   "source": [
    "len(base_anomalies[3]) - sum(base_anomalies[3])"
   ]
  },
  {
   "cell_type": "code",
   "execution_count": 38,
   "metadata": {},
   "outputs": [
    {
     "data": {
      "text/plain": [
       "50000"
      ]
     },
     "execution_count": 38,
     "metadata": {},
     "output_type": "execute_result"
    }
   ],
   "source": [
    "len(base_anomalies[3])"
   ]
  },
  {
   "cell_type": "code",
   "execution_count": 39,
   "metadata": {},
   "outputs": [
    {
     "data": {
      "text/plain": [
       "100000"
      ]
     },
     "execution_count": 39,
     "metadata": {},
     "output_type": "execute_result"
    }
   ],
   "source": [
    "len(base_anomalies[3]) + len(anomalies[3])"
   ]
  },
  {
   "cell_type": "code",
   "execution_count": 40,
   "metadata": {},
   "outputs": [
    {
     "data": {
      "text/plain": [
       "48801"
      ]
     },
     "execution_count": 40,
     "metadata": {},
     "output_type": "execute_result"
    }
   ],
   "source": [
    "sum(anomalies[3])"
   ]
  },
  {
   "cell_type": "code",
   "execution_count": 41,
   "metadata": {},
   "outputs": [
    {
     "data": {
      "text/plain": [
       "0.6590266666666666"
      ]
     },
     "execution_count": 41,
     "metadata": {},
     "output_type": "execute_result"
    }
   ],
   "source": [
    "(50079 + 48775) / 150000"
   ]
  },
  {
   "attachments": {},
   "cell_type": "markdown",
   "metadata": {},
   "source": [
    "# testing with different k"
   ]
  },
  {
   "cell_type": "code",
   "execution_count": 25,
   "metadata": {},
   "outputs": [],
   "source": [
    "train_data = base_loss[:50000]\n",
    "test_data = fgsm8_loss\n",
    "# test_data = base_loss[50000:]\n",
    "\n",
    "np.random.seed(123432) # set seed for reproducibility\n",
    "k_nearest_neighbor = KNearestNeighbors(k=100) # Initialize the ICM that uses k-nearest neighbors(k=10)\n",
    "conformal_predictor = ConformalAnomalyDetector(train_data, ICM=k_nearest_neighbor) # initialize CAD\n",
    "\n",
    "significances = [0.025,0.05,0.25,0.5] # see how different significance levels affect results\n",
    "# significances = [0.025]\n",
    "\n",
    "anomalies = []\n",
    "for i in range(len(significances)):\n",
    "    significance = significances[i]\n",
    "    conformal_predictor.set_significance(significance) # change significance\n",
    "    isAnomaly = conformal_predictor(test_data) # test if anomamlies according to current CAD\n",
    "    anomalies.append(isAnomaly)\n",
    "\n",
    "with open(\"/users/albertwen/downloads/mae_data/fgsm8_anomalies_k100.pkl\", \"wb\") as f:\n",
    "    pickle.dump(anomalies, f)"
   ]
  },
  {
   "cell_type": "code",
   "execution_count": 26,
   "metadata": {},
   "outputs": [],
   "source": [
    "train_data = base_loss[:50000]\n",
    "# test_data = fgsm8_loss\n",
    "test_data = base_loss[50000:]\n",
    "\n",
    "np.random.seed(123432) # set seed for reproducibility\n",
    "k_nearest_neighbor = KNearestNeighbors(k=100) # Initialize the ICM that uses k-nearest neighbors(k=10)\n",
    "conformal_predictor = ConformalAnomalyDetector(train_data, ICM=k_nearest_neighbor) # initialize CAD\n",
    "\n",
    "significances = [0.025,0.05,0.25,0.5] # see how different significance levels affect results\n",
    "# significances = [0.025]\n",
    "\n",
    "anomalies = []\n",
    "for i in range(len(significances)):\n",
    "    significance = significances[i]\n",
    "    conformal_predictor.set_significance(significance) # change significance\n",
    "    isAnomaly = conformal_predictor(test_data) # test if anomamlies according to current CAD\n",
    "    anomalies.append(isAnomaly)\n",
    "\n",
    "with open(\"/users/albertwen/downloads/mae_data/base_anomalies_k100.pkl\", \"wb\") as f:\n",
    "    pickle.dump(anomalies, f)"
   ]
  },
  {
   "cell_type": "code",
   "execution_count": 27,
   "metadata": {},
   "outputs": [
    {
     "name": "stdout",
     "output_type": "stream",
     "text": [
      "tpr 0.03\n",
      "tpr 0.06242\n",
      "tpr 0.31272\n",
      "tpr 0.58346\n",
      "fpr 0.02378\n",
      "fpr 0.0477\n",
      "fpr 0.24348\n",
      "fpr 0.49394\n",
      "accuracy 0.50311\n",
      "accuracy 0.50736\n",
      "accuracy 0.53462\n",
      "accuracy 0.54476\n"
     ]
    }
   ],
   "source": [
    "for result in anomalies:\n",
    "    print(\"tpr\", sum(result) / len(result))\n",
    "for result in base_anomalies:\n",
    "    print(\"fpr\", sum(result) / len(result))\n",
    "for i in range(len(anomalies)):\n",
    "    print(\"accuracy\", (sum(anomalies[i]) + (len(base_anomalies[i]) - sum(base_anomalies[i]))) / (len(base_anomalies[i]) + len(anomalies[i])))"
   ]
  },
  {
   "attachments": {},
   "cell_type": "markdown",
   "metadata": {},
   "source": [
    "# testing with k=10"
   ]
  },
  {
   "cell_type": "code",
   "execution_count": 28,
   "metadata": {},
   "outputs": [],
   "source": [
    "train_data = base_loss[:50000]\n",
    "test_data = fgsm8_loss\n",
    "# test_data = base_loss[50000:]\n",
    "\n",
    "np.random.seed(123432) # set seed for reproducibility\n",
    "k_nearest_neighbor = KNearestNeighbors(k=10) # Initialize the ICM that uses k-nearest neighbors(k=10)\n",
    "conformal_predictor = ConformalAnomalyDetector(train_data, ICM=k_nearest_neighbor) # initialize CAD\n",
    "\n",
    "significances = [0.025,0.05,0.25,0.5] # see how different significance levels affect results\n",
    "# significances = [0.025]\n",
    "\n",
    "anomalies = []\n",
    "for i in range(len(significances)):\n",
    "    significance = significances[i]\n",
    "    conformal_predictor.set_significance(significance) # change significance\n",
    "    isAnomaly = conformal_predictor(test_data) # test if anomamlies according to current CAD\n",
    "    anomalies.append(isAnomaly)\n",
    "\n",
    "with open(\"/users/albertwen/downloads/mae_data/fgsm8_anomalies_k10.pkl\", \"wb\") as f:\n",
    "    pickle.dump(anomalies, f)\n",
    "\n",
    "train_data = base_loss[:50000]\n",
    "# test_data = fgsm8_loss\n",
    "test_data = base_loss[50000:]\n",
    "\n",
    "# improve performance using vstack and cupy instead of numpy\n",
    "\n",
    "np.random.seed(123432) # set seed for reproducibility\n",
    "k_nearest_neighbor = KNearestNeighbors(k=10) # Initialize the ICM that uses k-nearest neighbors(k=10)\n",
    "conformal_predictor = ConformalAnomalyDetector(train_data, ICM=k_nearest_neighbor) # initialize CAD\n",
    "\n",
    "significances = [0.025,0.05,0.25,0.5] # see how different significance levels affect results\n",
    "# significances = [0.025]\n",
    "\n",
    "anomalies = []\n",
    "for i in range(len(significances)):\n",
    "    significance = significances[i]\n",
    "    conformal_predictor.set_significance(significance) # change significance\n",
    "    isAnomaly = conformal_predictor(test_data) # test if anomamlies according to current CAD\n",
    "    anomalies.append(isAnomaly)\n",
    "\n",
    "with open(\"/users/albertwen/downloads/mae_data/base_anomalies_k10.pkl\", \"wb\") as f:\n",
    "    pickle.dump(anomalies, f)"
   ]
  },
  {
   "cell_type": "code",
   "execution_count": 29,
   "metadata": {},
   "outputs": [
    {
     "name": "stdout",
     "output_type": "stream",
     "text": [
      "tpr 0.05602\n",
      "tpr 0.0852\n",
      "tpr 0.0852\n",
      "tpr 0.0852\n",
      "fpr 0.02378\n",
      "fpr 0.0477\n",
      "fpr 0.24348\n",
      "fpr 0.49394\n",
      "accuracy 0.51612\n",
      "accuracy 0.51875\n",
      "accuracy 0.42086\n",
      "accuracy 0.29563\n"
     ]
    }
   ],
   "source": [
    "for result in anomalies:\n",
    "    print(\"tpr\", sum(result) / len(result))\n",
    "for result in base_anomalies:\n",
    "    print(\"fpr\", sum(result) / len(result))\n",
    "for i in range(len(anomalies)):\n",
    "    print(\"accuracy\", (sum(anomalies[i]) + (len(base_anomalies[i]) - sum(base_anomalies[i]))) / (len(base_anomalies[i]) + len(anomalies[i])))"
   ]
  },
  {
   "cell_type": "code",
   "execution_count": null,
   "metadata": {},
   "outputs": [],
   "source": []
  }
 ],
 "metadata": {
  "language_info": {
   "name": "python"
  },
  "orig_nbformat": 4
 },
 "nbformat": 4,
 "nbformat_minor": 2
}
